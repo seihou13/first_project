{
 "cells": [
  {
   "cell_type": "markdown",
   "id": "830f9b25-2645-4363-ad2e-e4c877ae5330",
   "metadata": {},
   "source": [
    "# Это тестовая тетрадка."
   ]
  },
  {
   "cell_type": "code",
   "execution_count": 1,
   "id": "8fbdd62e-5cc1-4469-91c9-c70db249aa2d",
   "metadata": {},
   "outputs": [
    {
     "name": "stdout",
     "output_type": "stream",
     "text": [
      "Добавлен код\n"
     ]
    }
   ],
   "source": [
    "print('Добавлен код')"
   ]
  },
  {
   "cell_type": "code",
   "execution_count": 1,
   "id": "64a7d421-afc2-4503-8afe-e75607d29695",
   "metadata": {},
   "outputs": [
    {
     "name": "stdout",
     "output_type": "stream",
     "text": [
      "Добавлен второй блок кода\n"
     ]
    }
   ],
   "source": [
    "print('Добавлен второй блок кода')"
   ]
  }
 ],
 "metadata": {
  "kernelspec": {
   "display_name": "Python 3 (ipykernel)",
   "language": "python",
   "name": "python3"
  },
  "language_info": {
   "codemirror_mode": {
    "name": "ipython",
    "version": 3
   },
   "file_extension": ".py",
   "mimetype": "text/x-python",
   "name": "python",
   "nbconvert_exporter": "python",
   "pygments_lexer": "ipython3",
   "version": "3.9.23"
  }
 },
 "nbformat": 4,
 "nbformat_minor": 5
}
